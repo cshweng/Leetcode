{
 "cells": [
  {
   "cell_type": "markdown",
   "id": "bd191fab",
   "metadata": {},
   "source": [
    "## 1217. Minimum Cost to Move Chips to The Same Position"
   ]
  },
  {
   "cell_type": "markdown",
   "id": "5324bb0f",
   "metadata": {},
   "source": [
    "https://leetcode.com/problems/minimum-cost-to-move-chips-to-the-same-position/"
   ]
  },
  {
   "cell_type": "markdown",
   "id": "2ba5a2be",
   "metadata": {},
   "source": [
    "### We have n chips, where the position of the ith chip is position[i].\n",
    "\n",
    "##### We need to move all the chips to the same position. In one step, we can change the position of the ith chip from position[i] to:\n",
    "\n",
    "##### position[i] + 2 or position[i] - 2 with cost = 0.\n",
    "##### position[i] + 1 or position[i] - 1 with cost = 1.\n",
    "##### Return the minimum cost needed to move all the chips to the same position.\n",
    "\n",
    " \n",
    "\n",
    "### Example 1:\n",
    "\n",
    "\n",
    "Input: position = [1,2,3]\n",
    "Output: 1\n",
    "Explanation: First step: Move the chip at position 3 to position 1 with cost = 0.\n",
    "Second step: Move the chip at position 2 to position 1 with cost = 1.\n",
    "Total cost is 1.\n",
    "### Example 2:\n",
    "\n",
    "\n",
    "Input: position = [2,2,2,3,3]\n",
    "Output: 2\n",
    "Explanation: We can move the two chips at position  3 to position 2. Each move has cost = 1. The total cost = 2.\n",
    "Example 3:\n",
    "\n",
    "Input: position = [1,1000000000]\n",
    "Output: 1\n",
    " \n",
    "\n",
    "### Constraints:\n",
    "\n",
    "1 <= position.length <= 100\n",
    "1 <= position[i] <= 10^9\n"
   ]
  },
  {
   "cell_type": "code",
   "execution_count": 3,
   "id": "90a16776",
   "metadata": {},
   "outputs": [],
   "source": [
    "position = [1,2,3]\n",
    "position = [2,2,2,3,3]\n",
    "position = [2,3,3]\n",
    "#position =[1,2,3,4,5,6,7,8,9,10,11,12,13,14,15,16,17,18,19,20,21,22,23,24,25,26,27,28,29,30]\n",
    "#position = [3,3,1,2,2]\n",
    "position =[6,4,7,8,2,10,2,7,9,7]"
   ]
  },
  {
   "cell_type": "code",
   "execution_count": 4,
   "id": "b1bd5e09",
   "metadata": {},
   "outputs": [
    {
     "name": "stdout",
     "output_type": "stream",
     "text": [
      "4\n"
     ]
    }
   ],
   "source": [
    "# Using Numpy (bed)\n",
    "import numpy as np\n",
    "position = np.array(position)\n",
    "y = np.array(position)%2\n",
    "c_even = np.count_nonzero(y == 0)\n",
    "c_odd = len(position)-c_even\n",
    "if c_even>c_odd:    \n",
    "    print(c_odd)\n",
    "else:\n",
    "    print(c_even)"
   ]
  },
  {
   "cell_type": "code",
   "execution_count": 5,
   "id": "6c06fefc",
   "metadata": {},
   "outputs": [
    {
     "name": "stdout",
     "output_type": "stream",
     "text": [
      "4\n"
     ]
    }
   ],
   "source": [
    "# Using Using List Comprehension (OK)\n",
    "c_even = len([num for num in position if num % 2 == 0])\n",
    "c_odd = len(position)-c_even\n",
    "if c_even>c_odd:    \n",
    "    print(c_odd)\n",
    "else:\n",
    "    print(c_even)"
   ]
  },
  {
   "cell_type": "code",
   "execution_count": 6,
   "id": "146a09da",
   "metadata": {},
   "outputs": [
    {
     "name": "stdout",
     "output_type": "stream",
     "text": [
      "4\n"
     ]
    }
   ],
   "source": [
    "# Using Python Lambda Expressions (OK)\n",
    "c_even = len(list(filter(lambda x: (x%2 == 0),(position))))\n",
    "c_odd = len(position)-c_even\n",
    "if c_even>c_odd:    \n",
    "    print(c_odd)\n",
    "else:\n",
    "    print(c_even)"
   ]
  },
  {
   "cell_type": "code",
   "execution_count": 7,
   "id": "4a20af17",
   "metadata": {},
   "outputs": [
    {
     "name": "stdout",
     "output_type": "stream",
     "text": [
      "4\n"
     ]
    }
   ],
   "source": [
    "# Using For Loop (Solution)\n",
    "even_cnt = 0\n",
    "odd_cnt = 0\n",
    "for i in position:\n",
    "    if i % 2 == 0:\n",
    "        even_cnt += 1\n",
    "    else:\n",
    "        odd_cnt += 1\n",
    "print (min(even_cnt, odd_cnt))"
   ]
  },
  {
   "cell_type": "code",
   "execution_count": null,
   "id": "cfe7ac5f",
   "metadata": {},
   "outputs": [],
   "source": []
  }
 ],
 "metadata": {
  "kernelspec": {
   "display_name": "Python 3",
   "language": "python",
   "name": "python3"
  },
  "language_info": {
   "codemirror_mode": {
    "name": "ipython",
    "version": 3
   },
   "file_extension": ".py",
   "mimetype": "text/x-python",
   "name": "python",
   "nbconvert_exporter": "python",
   "pygments_lexer": "ipython3",
   "version": "3.8.8"
  }
 },
 "nbformat": 4,
 "nbformat_minor": 5
}
