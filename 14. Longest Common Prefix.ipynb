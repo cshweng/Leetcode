{
 "cells": [
  {
   "cell_type": "markdown",
   "id": "8aee1ebb",
   "metadata": {},
   "source": [
    "## 14. Longest Common Prefix\n"
   ]
  },
  {
   "cell_type": "markdown",
   "id": "c9fc15e4",
   "metadata": {},
   "source": [
    "Write a function to find the longest common prefix string amongst an array of strings.\n",
    "\n",
    "If there is no common prefix, return an empty string \"\".\n",
    "\n",
    " \n",
    "\n",
    "Example 1:\n",
    "\n",
    "Input: strs = [\"flower\",\"flow\",\"flight\"]\n",
    "Output: \"fl\"\n",
    "Example 2:\n",
    "\n",
    "Input: strs = [\"dog\",\"racecar\",\"car\"]\n",
    "Output: \"\"\n",
    "Explanation: There is no common prefix among the input strings.\n",
    " \n",
    "\n",
    "Constraints:\n",
    "\n",
    "1 <= strs.length <= 200\n",
    "0 <= strs[i].length <= 200\n",
    "strs[i] consists of only lower-case English letters."
   ]
  },
  {
   "cell_type": "code",
   "execution_count": 1,
   "id": "1fc8d25f",
   "metadata": {
    "scrolled": true
   },
   "outputs": [],
   "source": [
    "strs = [[\"dog\",\"racecar\",\"car\"],\n",
    "        [\"flower\",\"flow\",\"flight\"],\n",
    "        [\"cir\",\"car\"],\n",
    "        [\"a\"],\n",
    "        [\"reflower\",\"flow\",\"flight\"],\n",
    "        [\"aa\",\"ab\"],\n",
    "        [\"ab\", \"a\"]\n",
    "       ]"
   ]
  },
  {
   "cell_type": "markdown",
   "id": "bd1ee1ec",
   "metadata": {},
   "source": [
    "## Test 1"
   ]
  },
  {
   "cell_type": "code",
   "execution_count": 6,
   "id": "99aa1caa",
   "metadata": {},
   "outputs": [],
   "source": [
    "def test1(strs):\n",
    "    first = strs[0]\n",
    "    if len(strs)==1:\n",
    "        return first\n",
    "    min_cha = min(strs, key=len)\n",
    "    out = \"\"\n",
    "    for i in range(len(min_cha)):\n",
    "        for k in range(len(strs)-1):\n",
    "            if first[i] != strs[k+1][i]:\n",
    "                out = first[0:i]\n",
    "                return out\n",
    "    return(min_cha)"
   ]
  },
  {
   "cell_type": "code",
   "execution_count": 7,
   "id": "611704e3",
   "metadata": {},
   "outputs": [
    {
     "name": "stdout",
     "output_type": "stream",
     "text": [
      "\n",
      "fl\n",
      "c\n",
      "a\n",
      "\n",
      "a\n",
      "a\n"
     ]
    }
   ],
   "source": [
    "for i in strs:\n",
    "    print(test1(i))"
   ]
  },
  {
   "cell_type": "markdown",
   "id": "877b4691",
   "metadata": {},
   "source": [
    "## Test 2"
   ]
  },
  {
   "cell_type": "code",
   "execution_count": 8,
   "id": "ad0c6d71",
   "metadata": {},
   "outputs": [],
   "source": [
    "def test2(strs):\n",
    "    min_len = len(min(strs, key=len))\n",
    "    out = \"\"\n",
    "    B = True\n",
    "    for i in range(min_len):\n",
    "        for k in range(len(strs)-1):\n",
    "            if strs[0][i] == strs[k+1][i]:\n",
    "                B = True\n",
    "            else:\n",
    "                B = False\n",
    "                break\n",
    "        if B:\n",
    "            out = out+(strs[0][i])\n",
    "        else:\n",
    "            break\n",
    "    return(out)"
   ]
  },
  {
   "cell_type": "code",
   "execution_count": 9,
   "id": "33a947e7",
   "metadata": {},
   "outputs": [
    {
     "name": "stdout",
     "output_type": "stream",
     "text": [
      "\n",
      "fl\n",
      "c\n",
      "a\n",
      "\n",
      "a\n",
      "a\n"
     ]
    }
   ],
   "source": [
    "for i in strs:\n",
    "    print(test2(i))"
   ]
  },
  {
   "cell_type": "code",
   "execution_count": null,
   "id": "e459cd98",
   "metadata": {},
   "outputs": [],
   "source": []
  }
 ],
 "metadata": {
  "kernelspec": {
   "display_name": "Python 3",
   "language": "python",
   "name": "python3"
  },
  "language_info": {
   "codemirror_mode": {
    "name": "ipython",
    "version": 3
   },
   "file_extension": ".py",
   "mimetype": "text/x-python",
   "name": "python",
   "nbconvert_exporter": "python",
   "pygments_lexer": "ipython3",
   "version": "3.8.8"
  }
 },
 "nbformat": 4,
 "nbformat_minor": 5
}
