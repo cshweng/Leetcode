{
 "cells": [
  {
   "cell_type": "markdown",
   "id": "98e26e3b",
   "metadata": {},
   "source": [
    "Given a string s containing just the characters '(', ')', '{', '}', '[' and ']', determine if the input string is valid.\n",
    "\n",
    "An input string is valid if:\n",
    "\n",
    "Open brackets must be closed by the same type of brackets.\n",
    "Open brackets must be closed in the correct order.\n",
    " \n",
    "\n",
    "Example 1:\n",
    "\n",
    "Input: s = \"()\"\n",
    "Output: true\n",
    "Example 2:\n",
    "\n",
    "Input: s = \"()[]{}\"\n",
    "Output: true\n",
    "Example 3:\n",
    "\n",
    "Input: s = \"(]\"\n",
    "Output: false"
   ]
  },
  {
   "cell_type": "code",
   "execution_count": 27,
   "id": "fb50e841",
   "metadata": {},
   "outputs": [],
   "source": [
    "def isValid(s):\n",
    "    if len(s)%2 ==1:\n",
    "        return False\n",
    "    for i in range(len(s)//2):\n",
    "        s = s.replace(\"()\",\"\")\n",
    "        s = s.replace(\"[]\",\"\")\n",
    "        s = s.replace(\"{}\",\"\")\n",
    "    if s==\"\":\n",
    "        return True\n",
    "    else:\n",
    "        return False"
   ]
  },
  {
   "cell_type": "code",
   "execution_count": 1,
   "id": "aa92bf7d",
   "metadata": {},
   "outputs": [],
   "source": [
    "def isValid(self, s: str) -> bool:\n",
    "        if len(s)%2 ==1:\n",
    "            return False\n",
    "        def elim(s):\n",
    "            A = s.replace(\"()\",\"\")\n",
    "            A = A.replace(\"[]\",\"\")\n",
    "            A = A.replace(\"{}\",\"\")\n",
    "            if A != s:\n",
    "                return elim(A)\n",
    "            else:\n",
    "                return A\n",
    "        s = elim(s)\n",
    "        if s==\"\":\n",
    "            return True\n",
    "        else:\n",
    "            return False"
   ]
  },
  {
   "cell_type": "code",
   "execution_count": null,
   "id": "8cf40f85",
   "metadata": {},
   "outputs": [],
   "source": []
  }
 ],
 "metadata": {
  "kernelspec": {
   "display_name": "Python 3",
   "language": "python",
   "name": "python3"
  },
  "language_info": {
   "codemirror_mode": {
    "name": "ipython",
    "version": 3
   },
   "file_extension": ".py",
   "mimetype": "text/x-python",
   "name": "python",
   "nbconvert_exporter": "python",
   "pygments_lexer": "ipython3",
   "version": "3.8.8"
  }
 },
 "nbformat": 4,
 "nbformat_minor": 5
}
